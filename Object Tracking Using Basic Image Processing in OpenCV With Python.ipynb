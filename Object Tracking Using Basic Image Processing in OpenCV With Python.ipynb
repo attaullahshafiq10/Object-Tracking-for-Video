{
 "cells": [
  {
   "cell_type": "markdown",
   "metadata": {},
   "source": [
    "# Object Tracking Using Image Processing in OpenCV With Python"
   ]
  },
  {
   "cell_type": "code",
   "execution_count": 1,
   "metadata": {},
   "outputs": [],
   "source": [
    "# Import the OpenCV and NumPy modules:\n",
    "import cv2\n",
    "import numpy as np\n",
    "import matplotlib.pyplot as plt"
   ]
  },
  {
   "cell_type": "code",
   "execution_count": 2,
   "metadata": {},
   "outputs": [],
   "source": [
    "# Create a Video Capture object for the input video called lemon.mp4:\n",
    "cap = cv2.VideoCapture('E:\\Attaullah.mp4')"
   ]
  },
  {
   "cell_type": "code",
   "execution_count": 3,
   "metadata": {},
   "outputs": [],
   "source": [
    "# Check whether the video was opened successfully or not:\n",
    "if cap.isOpened == False:\n",
    "    print('Opening error in video')"
   ]
  },
  {
   "cell_type": "code",
   "execution_count": 4,
   "metadata": {},
   "outputs": [],
   "source": [
    "#Create three windows. These will be used to display our input frame, our output frame, and the mask.\n",
    "cv2.namedWindow('Input Video', cv2.WINDOW_NORMAL)\n",
    "cv2.namedWindow('Output Video', cv2.WINDOW_NORMAL)\n",
    "cv2.namedWindow('Mask', cv2.WINDOW_NORMAL)"
   ]
  },
  {
   "cell_type": "code",
   "execution_count": null,
   "metadata": {},
   "outputs": [],
   "source": [
    "# Create an infinite while loop for reading frames, processing them, and displaying the output frames:\n",
    "while True:\n",
    "    # Capture a frame from the video using cap.read():\n",
    "    ret, frame = cap.read()\n",
    "    \n",
    "    # Check whether the video has ended or not.\n",
    "    if ret == False:\n",
    "        break\n",
    "        \n",
    "    # Convert our frame into the HSV color space. We are doing this so that we can easily use the hue channel for thresholding:\n",
    "    hsv = cv2.cvtColor(frame, cv2.COLOR_BGR2HSV)\n",
    "    \n",
    "    #Next, obtain the hue channel and apply thresholding. Set all the pixels greater than 40 to 0 and less or equal set to 1. \n",
    "    h = hsv[:, :, 0]\n",
    "    # applying thresholding, We arrive at the value 40 by trial and error.\n",
    "    hcopy = h.copy()\n",
    "    h[hcopy > 40] = 0\n",
    "    h[hcopy <= 40] = 1\n",
    "    \n",
    "    # we will display the new mask (h), input the video frame, and output the frame\n",
    "    cv2.imshow('input video', frame)\n",
    "    cv2.imshow('output video', frame * h[:, :, np.newaxis])\n",
    "    cv2.imshow('Hue', h * 255)\n",
    "        \n",
    "    # We can quit the process in the middle of it being run if we press the Esc key:\n",
    "    k = cv2.waitKey(10)\n",
    "    if k == 27:\n",
    "        break\n",
    "        "
   ]
  },
  {
   "cell_type": "code",
   "execution_count": null,
   "metadata": {},
   "outputs": [],
   "source": [
    "# Outside of the while loop, release the VideoCapture object and close all the open display windows:\n",
    "cap.release()\n",
    "cv2.destroyAllWindows()"
   ]
  },
  {
   "cell_type": "code",
   "execution_count": null,
   "metadata": {},
   "outputs": [],
   "source": []
  }
 ],
 "metadata": {
  "kernelspec": {
   "display_name": "Python 3",
   "language": "python",
   "name": "python3"
  },
  "language_info": {
   "codemirror_mode": {
    "name": "ipython",
    "version": 3
   },
   "file_extension": ".py",
   "mimetype": "text/x-python",
   "name": "python",
   "nbconvert_exporter": "python",
   "pygments_lexer": "ipython3",
   "version": "3.8.5"
  }
 },
 "nbformat": 4,
 "nbformat_minor": 2
}
